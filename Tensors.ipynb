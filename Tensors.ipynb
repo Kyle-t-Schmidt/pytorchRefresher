{
  "nbformat": 4,
  "nbformat_minor": 0,
  "metadata": {
    "colab": {
      "provenance": [],
      "gpuType": "T4",
      "authorship_tag": "ABX9TyPdYkdqMU0EwCZfY/1SnjiS",
      "include_colab_link": true
    },
    "kernelspec": {
      "name": "python3",
      "display_name": "Python 3"
    },
    "language_info": {
      "name": "python"
    },
    "accelerator": "GPU"
  },
  "cells": [
    {
      "cell_type": "markdown",
      "metadata": {
        "id": "view-in-github",
        "colab_type": "text"
      },
      "source": [
        "<a href=\"https://colab.research.google.com/github/Kyle-t-Schmidt/pytorchRefresher/blob/main/Tensors.ipynb\" target=\"_parent\"><img src=\"https://colab.research.google.com/assets/colab-badge.svg\" alt=\"Open In Colab\"/></a>"
      ]
    },
    {
      "cell_type": "markdown",
      "source": [
        "# Tensors\n",
        "\n",
        "*   A torch.tensor is a multidimensional matrix containing elements of a single data type\n",
        "*   similar to np attays, but work better wityh GPUs\n",
        "*   default data type is float32\n",
        "*   more suitable for deep learning than np arrays\n",
        "\n",
        "\n",
        "\n"
      ],
      "metadata": {
        "id": "Q7QXOvdoQBo9"
      }
    },
    {
      "cell_type": "code",
      "execution_count": null,
      "metadata": {
        "id": "m86At7NeK8Le"
      },
      "outputs": [],
      "source": [
        "import torch\n",
        "import numpy as np"
      ]
    },
    {
      "cell_type": "markdown",
      "source": [
        "# Lists"
      ],
      "metadata": {
        "id": "nAVRirAkQo3r"
      }
    },
    {
      "cell_type": "code",
      "source": [
        "my_list = [[1,2,3,4,5], [6,7,8,9,10]]\n",
        "my_list"
      ],
      "metadata": {
        "colab": {
          "base_uri": "https://localhost:8080/"
        },
        "id": "38eq3RS8Lxvt",
        "outputId": "843fbfd0-f8e4-494a-d2bd-b12505af1bd0"
      },
      "execution_count": null,
      "outputs": [
        {
          "output_type": "execute_result",
          "data": {
            "text/plain": [
              "[[1, 2, 3, 4, 5], [6, 7, 8, 9, 10]]"
            ]
          },
          "metadata": {},
          "execution_count": 3
        }
      ]
    },
    {
      "cell_type": "markdown",
      "source": [
        "# NP Arrays"
      ],
      "metadata": {
        "id": "kCZVRzDpRJQ0"
      }
    },
    {
      "cell_type": "code",
      "source": [
        "np1 = np.random.rand(3,4)\n",
        "np1"
      ],
      "metadata": {
        "colab": {
          "base_uri": "https://localhost:8080/"
        },
        "id": "4juJ8xwwRMJd",
        "outputId": "931641c3-9f46-40ed-ed6f-2ca05faa417b"
      },
      "execution_count": null,
      "outputs": [
        {
          "output_type": "execute_result",
          "data": {
            "text/plain": [
              "array([[0.20212777, 0.48730569, 0.36809793, 0.38358316],\n",
              "       [0.27114804, 0.55888848, 0.7471465 , 0.91911758],\n",
              "       [0.53872638, 0.39303959, 0.82545889, 0.26445067]])"
            ]
          },
          "metadata": {},
          "execution_count": 4
        }
      ]
    },
    {
      "cell_type": "markdown",
      "source": [
        "# Tensors"
      ],
      "metadata": {
        "id": "Y_BrKKV_Rfvj"
      }
    },
    {
      "cell_type": "code",
      "source": [
        "tensor_2d = torch.randn(3,4)\n",
        "tensor_2d"
      ],
      "metadata": {
        "colab": {
          "base_uri": "https://localhost:8080/"
        },
        "id": "EmsWGqB0RiuQ",
        "outputId": "cdc345ae-37a9-4315-f988-e9a80a67e01e"
      },
      "execution_count": null,
      "outputs": [
        {
          "output_type": "execute_result",
          "data": {
            "text/plain": [
              "tensor([[-0.1568,  0.8951,  0.5860,  0.2037],\n",
              "        [-0.1433, -2.0510, -0.3012, -1.3942],\n",
              "        [-0.6472,  0.6806, -2.4145,  0.2203]])"
            ]
          },
          "metadata": {},
          "execution_count": 5
        }
      ]
    },
    {
      "cell_type": "code",
      "source": [
        "tensor_3d = torch.randn(2, 3,4)\n",
        "tensor_3d"
      ],
      "metadata": {
        "colab": {
          "base_uri": "https://localhost:8080/"
        },
        "id": "KWwCTvIBSVvr",
        "outputId": "46e682fd-8fe7-46d1-85fb-8adee8c9bf63"
      },
      "execution_count": null,
      "outputs": [
        {
          "output_type": "execute_result",
          "data": {
            "text/plain": [
              "tensor([[[ 1.2243,  0.9950, -0.1595,  0.1105],\n",
              "         [ 0.0258, -1.1357,  0.3682, -1.5266],\n",
              "         [-0.4701, -0.3002,  0.5085,  0.2321]],\n",
              "\n",
              "        [[ 0.8693, -0.5272,  0.2329,  1.0187],\n",
              "         [-0.3033, -0.5483, -1.0370,  0.4272],\n",
              "         [-0.1173, -1.4256, -0.6598, -0.1680]]])"
            ]
          },
          "metadata": {},
          "execution_count": 6
        }
      ]
    },
    {
      "cell_type": "code",
      "source": [
        "## create tensor from np array\n",
        "my_tensor = torch.tensor(np1)\n",
        "my_tensor"
      ],
      "metadata": {
        "colab": {
          "base_uri": "https://localhost:8080/"
        },
        "id": "ZDCiec7DSfq_",
        "outputId": "18ded799-f7c3-491d-ab8d-530f39c5edc5"
      },
      "execution_count": null,
      "outputs": [
        {
          "output_type": "execute_result",
          "data": {
            "text/plain": [
              "tensor([[0.2021, 0.4873, 0.3681, 0.3836],\n",
              "        [0.2711, 0.5589, 0.7471, 0.9191],\n",
              "        [0.5387, 0.3930, 0.8255, 0.2645]], dtype=torch.float64)"
            ]
          },
          "metadata": {},
          "execution_count": 7
        }
      ]
    }
  ]
}