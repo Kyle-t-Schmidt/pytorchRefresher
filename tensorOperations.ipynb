{
  "nbformat": 4,
  "nbformat_minor": 0,
  "metadata": {
    "colab": {
      "provenance": [],
      "gpuType": "T4",
      "authorship_tag": "ABX9TyOFTVv+0fNVCg1I4o+sE0NX",
      "include_colab_link": true
    },
    "kernelspec": {
      "name": "python3",
      "display_name": "Python 3"
    },
    "language_info": {
      "name": "python"
    },
    "accelerator": "GPU"
  },
  "cells": [
    {
      "cell_type": "markdown",
      "metadata": {
        "id": "view-in-github",
        "colab_type": "text"
      },
      "source": [
        "<a href=\"https://colab.research.google.com/github/Kyle-t-Schmidt/pytorchRefresher/blob/main/tensorOperations.ipynb\" target=\"_parent\"><img src=\"https://colab.research.google.com/assets/colab-badge.svg\" alt=\"Open In Colab\"/></a>"
      ]
    },
    {
      "cell_type": "code",
      "execution_count": 1,
      "metadata": {
        "id": "k1qYzJYGdax7"
      },
      "outputs": [],
      "source": [
        "import torch"
      ]
    },
    {
      "cell_type": "code",
      "source": [
        "my_torch = torch.arange(10)\n",
        "my_torch"
      ],
      "metadata": {
        "colab": {
          "base_uri": "https://localhost:8080/"
        },
        "id": "XczcnmcwdwT0",
        "outputId": "6ed37528-33be-47a5-d496-0359747cb5c6"
      },
      "execution_count": 2,
      "outputs": [
        {
          "output_type": "execute_result",
          "data": {
            "text/plain": [
              "tensor([0, 1, 2, 3, 4, 5, 6, 7, 8, 9])"
            ]
          },
          "metadata": {},
          "execution_count": 2
        }
      ]
    },
    {
      "cell_type": "code",
      "source": [
        "# Reshape and View\n",
        "my_torch = my_torch.reshape(2, 5)\n",
        "my_torch"
      ],
      "metadata": {
        "colab": {
          "base_uri": "https://localhost:8080/"
        },
        "id": "4x71uGAvd6FA",
        "outputId": "4bd41a2d-6b76-490e-ce3b-ca17b6f649f6"
      },
      "execution_count": 3,
      "outputs": [
        {
          "output_type": "execute_result",
          "data": {
            "text/plain": [
              "tensor([[0, 1, 2, 3, 4],\n",
              "        [5, 6, 7, 8, 9]])"
            ]
          },
          "metadata": {},
          "execution_count": 3
        }
      ]
    },
    {
      "cell_type": "code",
      "source": [
        "# reshape if we don't know the number of items using -1\n",
        "my_torch2 = torch.arange(10)\n",
        "my_torch2"
      ],
      "metadata": {
        "colab": {
          "base_uri": "https://localhost:8080/"
        },
        "id": "s0XKlfRCeJtn",
        "outputId": "99de3e48-fde8-4257-b681-9fbc27a5acb8"
      },
      "execution_count": 6,
      "outputs": [
        {
          "output_type": "execute_result",
          "data": {
            "text/plain": [
              "tensor([0, 1, 2, 3, 4, 5, 6, 7, 8, 9])"
            ]
          },
          "metadata": {},
          "execution_count": 6
        }
      ]
    },
    {
      "cell_type": "code",
      "source": [
        "my_torch2 = my_torch2.reshape(2,-1)\n",
        "my_torch2"
      ],
      "metadata": {
        "colab": {
          "base_uri": "https://localhost:8080/"
        },
        "id": "Ig0chDAeejQy",
        "outputId": "4e5a3b17-d807-40d4-a062-804b8a65e3cd"
      },
      "execution_count": 7,
      "outputs": [
        {
          "output_type": "execute_result",
          "data": {
            "text/plain": [
              "tensor([[0, 1, 2, 3, 4],\n",
              "        [5, 6, 7, 8, 9]])"
            ]
          },
          "metadata": {},
          "execution_count": 7
        }
      ]
    },
    {
      "cell_type": "code",
      "source": [
        "my_toch3 = torch.arange(10)\n",
        "my_toch3"
      ],
      "metadata": {
        "colab": {
          "base_uri": "https://localhost:8080/"
        },
        "id": "J6TED1HHeZ_G",
        "outputId": "8cc2f954-d9a1-44c9-959a-51080d7d5a92"
      },
      "execution_count": 8,
      "outputs": [
        {
          "output_type": "execute_result",
          "data": {
            "text/plain": [
              "tensor([0, 1, 2, 3, 4, 5, 6, 7, 8, 9])"
            ]
          },
          "metadata": {},
          "execution_count": 8
        }
      ]
    },
    {
      "cell_type": "code",
      "source": [
        "my_torch4 = my_toch3.view(2, 5)\n",
        "my_torch4"
      ],
      "metadata": {
        "colab": {
          "base_uri": "https://localhost:8080/"
        },
        "id": "-UNV8M74fDqQ",
        "outputId": "617cc681-6e6c-4c60-af27-48746aebc7c6"
      },
      "execution_count": 10,
      "outputs": [
        {
          "output_type": "execute_result",
          "data": {
            "text/plain": [
              "tensor([[0, 1, 2, 3, 4],\n",
              "        [5, 6, 7, 8, 9]])"
            ]
          },
          "metadata": {},
          "execution_count": 10
        }
      ]
    },
    {
      "cell_type": "markdown",
      "source": [
        "## Difference between reshape and view?\n",
        "\n",
        "Both torch.reshape and torch.view are used to change the shape of a PyTorch tensor, but they have key differences in how they achieve this:\n",
        "Similarities:\n",
        "Both functions return a new tensor with the desired shape, sharing the same underlying data with the original tensor whenever possible.\n",
        "Both functions can be used to reshape tensors efficiently, without copying data unnecessarily.\n",
        "Differences:\n",
        "1. Data Contiguity:\n",
        "torch.view:\n",
        "Requires the tensor to be contiguous in memory. If the tensor is not contiguous, torch.view will raise an error.\n",
        "torch.reshape:\n",
        "Works even if the tensor is not contiguous. If necessary, it will create a copy of the tensor to ensure contiguity before reshaping.\n",
        "2. Memory Management:\n",
        "torch.view:\n",
        "Creates a new tensor that shares the same memory as the original tensor. Modifying the data in the new tensor will also change the data in the original tensor.\n",
        "torch.reshape:\n",
        "May create a copy of the tensor if the original tensor is not contiguous. In this case, modifying the data in the new tensor will not affect the original tensor.\n",
        "3. Safety:\n",
        "torch.view:\n",
        "Offers better performance but is less safe because it requires contiguous tensors.\n",
        "torch.reshape:\n",
        "Is safer because it can work on non-contiguous tensors, but it may incur additional memory overhead if a copy is required.\n",
        "\n",
        "**When to use each:**\n",
        "\n",
        "torch.view:\n",
        "Use this when you are certain the tensor is contiguous and you want to avoid unnecessary data copying for better performance.\n",
        "torch.reshape:\n",
        "Use this when you are unsure if the tensor is contiguous or if you need to reshape a non-contiguous tensor without worrying about the potential for data copying."
      ],
      "metadata": {
        "id": "0xyOTGgsfOJO"
      }
    }
  ]
}